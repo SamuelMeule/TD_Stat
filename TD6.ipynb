{
 "cells": [
  {
   "cell_type": "code",
   "execution_count": null,
   "metadata": {},
   "outputs": [],
   "source": [
    "#!/usr/bin/python\n",
    "# coding: utf-8\n",
    "\n",
    "#################################################\"    \n",
    "##                 MODULES                  #####\"\n",
    "#################################################\"\n",
    "import matplotlib.pyplot as plt\n",
    "import numpy as np\n",
    "#################################################\"\n",
    "n=1   # Number of harmonics\n",
    "\n",
    "# Read ascii file\n",
    "\n",
    "filename='fichier2.txt'\n",
    "with open(filename, 'r') as f:\n",
    "    lines=f.readlines()\n",
    "t=[]\n",
    "u=[]\n",
    "for l in lines:\n",
    "    value=l.strip().split(\"\\t\")\n",
    "    t.append(float(value[0]))           # Read the first column: time t\n",
    "    u.append(float(value[1]))           # Read the second column: function u \n",
    "\n",
    "t=np.array(t)\n",
    "u=np.array(u)\n",
    "# Parameters\n",
    "f1=1\n",
    "N=len(t)\n",
    "Tmax=np.round(max(t))\n",
    "\n",
    "# fft analysis\n",
    "y=np.fft.fft(u)    #Fast Fourier Transform\n",
    "\n",
    "# order of the filtering\n",
    "m=int(Tmax)*f1*n+1\n",
    "y[m:-m]=0\n",
    "# Reverse fft and normalize\n",
    "Y=np.fft.ifft(y)\n",
    "Y=Y.real\n",
    "# Figure\n",
    "fig1=plt.figure(figsize=(10,5))\n",
    "plt.plot(t,u, 'r--', label=\"Original dataset\")\n",
    "plt.plot(t, Y, 'k.', label='filtered dataset')\n",
    "plt.legend()\n",
    "plt.grid()\n",
    "plt.show()\n",
    "#   Save the figure\n",
    "fig1.savefig('Figure_TD6',dpi=200)"
   ]
  }
 ],
 "metadata": {
  "kernelspec": {
   "display_name": "Python 3",
   "language": "python",
   "name": "python3"
  },
  "language_info": {
   "codemirror_mode": {
    "name": "ipython",
    "version": 3
   },
   "file_extension": ".py",
   "mimetype": "text/x-python",
   "name": "python",
   "nbconvert_exporter": "python",
   "pygments_lexer": "ipython3",
   "version": "3.7.3"
  }
 },
 "nbformat": 4,
 "nbformat_minor": 2
}
