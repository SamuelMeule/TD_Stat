{
 "cells": [
  {
   "cell_type": "code",
   "execution_count": null,
   "metadata": {},
   "outputs": [],
   "source": [
    "#!/usr/bin/python\n",
    "# coding: utf-8\n",
    "\n",
    "#################################################\"    \n",
    "##                 MODULES                  #####\"\n",
    "#################################################\"\n",
    "import matplotlib.pyplot as plt\n",
    "import numpy as np\n",
    "#################################################\"\n",
    "\n",
    "# Parameters\n",
    "\n",
    "N = 500                     # Number of sampling\n",
    "Tmax = 2.0                  # Max time\n",
    "Te = Tmax/N                  # Delta time between each measurements\n",
    "f1=1                         # Acquisition frequency\n",
    "t = np.arange(0, Tmax, Te)   # Time vector\n",
    "\n",
    "# Functions\n",
    "u1=0.5*1.0*np.cos(2*np.pi*f1*t)\n",
    "u2=0.3*np.cos(2*2*np.pi*f1*t-np.pi/3)\n",
    "u=u1+u2\n",
    "\n",
    "# fft analysis\n",
    "Puu=np.abs(np.fft.fft(u,N)/N)**2  # Density spectrum\n",
    "freqs=np.linspace(0,1/Te,len(Puu)) # frequencies\n",
    "\n",
    "# Figure\n",
    "fig1=plt.figure(figsize=(10,5))\n",
    "plt.plot(freqs,Puu, 'ko-', label='u')\n",
    "plt.axis([0,11,0,0.1])\n",
    "plt.xlabel(\"Frequency (Hz)\")\n",
    "plt.ylabel(\"Power spectrum\")\n",
    "plt.grid()\n",
    "plt.show()\n",
    "\n",
    "#   Save the figure\n",
    "fig1.savefig('Figure_TD2',dpi=200)"
   ]
  }
 ],
 "metadata": {
  "kernelspec": {
   "display_name": "Python 3",
   "language": "python",
   "name": "python3"
  },
  "language_info": {
   "codemirror_mode": {
    "name": "ipython",
    "version": 3
   },
   "file_extension": ".py",
   "mimetype": "text/x-python",
   "name": "python",
   "nbconvert_exporter": "python",
   "pygments_lexer": "ipython3",
   "version": "3.7.3"
  }
 },
 "nbformat": 4,
 "nbformat_minor": 2
}
