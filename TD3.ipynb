{
 "cells": [
  {
   "cell_type": "code",
   "execution_count": null,
   "metadata": {},
   "outputs": [],
   "source": [
    "#!/usr/bin/python\n",
    "# coding: utf-8\n",
    "\n",
    "#################################################\"    \n",
    "##                 MODULES                  #####\"\n",
    "#################################################\"\n",
    "import matplotlib.pyplot as plt\n",
    "import numpy as np\n",
    "#################################################\"\n",
    "\n",
    "# Parameters\n",
    "N = 500                     # Number of sampling\n",
    "Tmax = 2.0                  # Max time\n",
    "Te = Tmax/N                  # Delta time between each measurements\n",
    "f1=1                         # Acquisition frequency\n",
    "t = np.arange(0, Tmax, Te)   # Time vector\n",
    "\n",
    "\n",
    "# Functions\n",
    "u1=2*1.0*np.cos(2*np.pi*f1*t)\n",
    "u2=2*np.cos(2*2*np.pi*f1*t-np.pi/3)\n",
    "u=u1+u2\n",
    "\n",
    "# Analyse statistique\n",
    "nbrv=(np.diff(np.sign(u)) < 0).sum()# Nbr d'oscillations\n",
    "hist, bin_edges = np.histogram(u, bins=20) #Fonction de repartition des hauteurs de vagues. \n",
    "X = np.sort(u)\n",
    "F = np.array(range(N))*100/float(N)\n",
    "H13=np.mean(X[np.where(F>66)])      # Calcul de la moyenne du tiers superieur des oscillations\n",
    "fu=np.where((np.diff(np.sign(u)) < 0))\n",
    "Tm=np.mean(np.diff(fu))*Te    # Calcul de la periode moyenne\n",
    "\n",
    "\n",
    "# Figure\n",
    "fig1=plt.figure(figsize=(10,5))\n",
    "plt.bar(bin_edges[:-1], hist, width=bin_edges[1]-bin_edges[0], color='red', alpha=0.5, label='Histogramm')\n",
    "plt.plot(X, F, label=u'cumulative frequency')\n",
    "plt.xlabel(\"oscillation amplitude\")\n",
    "plt.ylabel(u\"Probability\")\n",
    "titre='Amplitude histogram: H1/3=' + str(np.around(H13,2))+'; Tm='+str(np.around(Tm,2))\n",
    "plt.title(titre)\n",
    "plt.legend()\n",
    "plt.grid()\n",
    "plt.ylim(0,100)\n",
    "plt.show()\n",
    "\n",
    "#   Save the figure\n",
    "fig1.savefig('Figure_TD3',dpi=200)\n"
   ]
  }
 ],
 "metadata": {
  "kernelspec": {
   "display_name": "Python 3",
   "language": "python",
   "name": "python3"
  },
  "language_info": {
   "codemirror_mode": {
    "name": "ipython",
    "version": 3
   },
   "file_extension": ".py",
   "mimetype": "text/x-python",
   "name": "python",
   "nbconvert_exporter": "python",
   "pygments_lexer": "ipython3",
   "version": "3.7.3"
  }
 },
 "nbformat": 4,
 "nbformat_minor": 2
}
