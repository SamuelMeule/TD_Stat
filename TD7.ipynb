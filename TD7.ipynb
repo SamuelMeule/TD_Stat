{
 "cells": [
  {
   "cell_type": "code",
   "execution_count": null,
   "metadata": {},
   "outputs": [],
   "source": [
    "#!/usr/bin/python\n",
    "# coding: utf-8\n",
    "\n",
    "#################################################\"    \n",
    "##                 MODULES                  #####\"\n",
    "#################################################\"\n",
    "import matplotlib.pyplot as plt\n",
    "import numpy as np\n",
    "#################################################\"\n",
    "\n",
    "\n",
    "# A PARTIR D'ICI VOUS DEVEZ RAJOUTER LES FONCTIONS QUI PERMETTRONT LA LECTURE DU FICHIER ET L'ANALYSE\n",
    "# COMPLETE DE LA SERIE TEMPORELLE\n",
    "\n"
   ]
  }
 ],
 "metadata": {
  "kernelspec": {
   "display_name": "Python 3",
   "language": "python",
   "name": "python3"
  },
  "language_info": {
   "codemirror_mode": {
    "name": "ipython",
    "version": 3
   },
   "file_extension": ".py",
   "mimetype": "text/x-python",
   "name": "python",
   "nbconvert_exporter": "python",
   "pygments_lexer": "ipython3",
   "version": "3.7.3"
  }
 },
 "nbformat": 4,
 "nbformat_minor": 2
}
