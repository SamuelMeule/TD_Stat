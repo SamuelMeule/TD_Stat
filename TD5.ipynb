{
 "cells": [
  {
   "cell_type": "code",
   "execution_count": null,
   "metadata": {},
   "outputs": [],
   "source": [
    "#!/usr/bin/python\n",
    "# coding: utf-8\n",
    "\n",
    "#################################################\"    \n",
    "##                 MODULES                  #####\"\n",
    "#################################################\"\n",
    "import matplotlib.pyplot as plt\n",
    "import numpy as np\n",
    "#################################################\"\n",
    "\n",
    "\n",
    "# Parameters\n",
    "\n",
    "N = 1000                     # Number of sampling\n",
    "Tmax = 4.0                  # Max time\n",
    "Te = Tmax/N                  # Delta time between each measurements\n",
    "f1=1                 # Acquisition frequency (Hz)\n",
    "t = np.arange(0, Tmax, Te)   # Time vector\n",
    "n=4                          # Number of harmonics\n",
    "\n",
    "# Functions\n",
    "\n",
    "u1=0.5*np.cos(1*2*np.pi*f1*t)\n",
    "u2=0.3*np.cos(2*2*np.pi*f1*t-np.pi/3)\n",
    "u3=0.5*np.cos(3*2*np.pi*f1*t+np.pi/3)\n",
    "u4=0.1*np.cos(4*2*np.pi*f1*t)\n",
    "u=u1+u2+u3+u4\n",
    "\n",
    "# fft analysis\n",
    "y=np.fft.fft(u)    #Fast Fourier Transform\n",
    "\n",
    "# order of the filtering\n",
    "m=int(Tmax)*f1*n+1\n",
    "\n",
    "y[m:-m]=0\n",
    "# Reverse fft and normalize\n",
    "Y=np.fft.ifft(y)\n",
    "Y=Y.real\n",
    "\n",
    "# Figure\n",
    "fig1=plt.figure(figsize=(10,5))\n",
    "plt.plot(t, Y, 'k.', label='filtered dataset')\n",
    "plt.plot(t,u, 'r--', label=\"Original dataset\")\n",
    "plt.legend()\n",
    "plt.xlabel(\"t\")\n",
    "plt.ylabel(\"u\")\n",
    "plt.show()\n",
    "\n",
    "#   Save the figure\n",
    "fig1.savefig('Figure_TD5',dpi=200)"
   ]
  }
 ],
 "metadata": {
  "kernelspec": {
   "display_name": "Python 3",
   "language": "python",
   "name": "python3"
  },
  "language_info": {
   "codemirror_mode": {
    "name": "ipython",
    "version": 3
   },
   "file_extension": ".py",
   "mimetype": "text/x-python",
   "name": "python",
   "nbconvert_exporter": "python",
   "pygments_lexer": "ipython3",
   "version": "3.7.3"
  }
 },
 "nbformat": 4,
 "nbformat_minor": 2
}
